{
 "cells": [
  {
   "cell_type": "code",
   "execution_count": null,
   "metadata": {
    "id": "fyjzioelo_j9"
   },
   "outputs": [],
   "source": [
    "!pip install allennlp"
   ]
  },
  {
   "cell_type": "code",
   "execution_count": null,
   "metadata": {
    "id": "QGBRhOE4oBcv"
   },
   "outputs": [],
   "source": [
    "import warnings\n",
    "import numpy as np\n",
    "import pandas as pd\n",
    "\n",
    "import torch\n",
    "from allennlp.data import Vocabulary, TokenIndexer, Tokenizer\n",
    "from allennlp.data.fields import TextField\n",
    "from allennlp.data.token_indexers import (\n",
    "    ELMoTokenCharactersIndexer,\n",
    ")\n",
    "from allennlp.data.tokenizers import WhitespaceTokenizer\n",
    "\n",
    "from allennlp.modules.text_field_embedders import BasicTextFieldEmbedder\n",
    "from allennlp.modules.token_embedders import ElmoTokenEmbedder\n",
    "\n",
    "from torchtext.data.utils import get_tokenizer\n",
    "from torchtext.vocab import build_vocab_from_iterator"
   ]
  },
  {
   "cell_type": "code",
   "execution_count": null,
   "metadata": {
    "colab": {
     "base_uri": "https://localhost:8080/",
     "height": 203
    },
    "id": "kCR009O9qGUQ",
    "outputId": "26586dbc-acb3-4210-804b-e8e7dbd25c76"
   },
   "outputs": [
    {
     "data": {
      "text/html": [
       "<div>\n",
       "<style scoped>\n",
       "    .dataframe tbody tr th:only-of-type {\n",
       "        vertical-align: middle;\n",
       "    }\n",
       "\n",
       "    .dataframe tbody tr th {\n",
       "        vertical-align: top;\n",
       "    }\n",
       "\n",
       "    .dataframe thead th {\n",
       "        text-align: right;\n",
       "    }\n",
       "</style>\n",
       "<table border=\"1\" class=\"dataframe\">\n",
       "  <thead>\n",
       "    <tr style=\"text-align: right;\">\n",
       "      <th></th>\n",
       "      <th>art_style</th>\n",
       "      <th>painting</th>\n",
       "      <th>emotion</th>\n",
       "      <th>utterance</th>\n",
       "      <th>repetition</th>\n",
       "    </tr>\n",
       "  </thead>\n",
       "  <tbody>\n",
       "    <tr>\n",
       "      <th>0</th>\n",
       "      <td>Post_Impressionism</td>\n",
       "      <td>vincent-van-gogh_portrait-of-madame-ginoux-l-a...</td>\n",
       "      <td>something else</td>\n",
       "      <td>She seems very happy in the picture, and you w...</td>\n",
       "      <td>10</td>\n",
       "    </tr>\n",
       "    <tr>\n",
       "      <th>1</th>\n",
       "      <td>Post_Impressionism</td>\n",
       "      <td>vincent-van-gogh_portrait-of-madame-ginoux-l-a...</td>\n",
       "      <td>sadness</td>\n",
       "      <td>This woman has really knotty hands which makes...</td>\n",
       "      <td>10</td>\n",
       "    </tr>\n",
       "    <tr>\n",
       "      <th>2</th>\n",
       "      <td>Post_Impressionism</td>\n",
       "      <td>vincent-van-gogh_portrait-of-madame-ginoux-l-a...</td>\n",
       "      <td>something else</td>\n",
       "      <td>When looking at this woman, I am filled with c...</td>\n",
       "      <td>10</td>\n",
       "    </tr>\n",
       "    <tr>\n",
       "      <th>3</th>\n",
       "      <td>Post_Impressionism</td>\n",
       "      <td>vincent-van-gogh_portrait-of-madame-ginoux-l-a...</td>\n",
       "      <td>contentment</td>\n",
       "      <td>A woman looking at ease, peaceful, and satisfi...</td>\n",
       "      <td>10</td>\n",
       "    </tr>\n",
       "    <tr>\n",
       "      <th>4</th>\n",
       "      <td>Post_Impressionism</td>\n",
       "      <td>vincent-van-gogh_portrait-of-madame-ginoux-l-a...</td>\n",
       "      <td>awe</td>\n",
       "      <td>She looks like a lady from that past that migh...</td>\n",
       "      <td>10</td>\n",
       "    </tr>\n",
       "  </tbody>\n",
       "</table>\n",
       "</div>"
      ],
      "text/plain": [
       "            art_style  ... repetition\n",
       "0  Post_Impressionism  ...         10\n",
       "1  Post_Impressionism  ...         10\n",
       "2  Post_Impressionism  ...         10\n",
       "3  Post_Impressionism  ...         10\n",
       "4  Post_Impressionism  ...         10\n",
       "\n",
       "[5 rows x 5 columns]"
      ]
     },
     "execution_count": 29,
     "metadata": {
      "tags": []
     },
     "output_type": "execute_result"
    }
   ],
   "source": [
    "warnings.filterwarnings(\"ignore\")\n",
    "\n",
    "artemis_data = pd.read_csv(\"/content/drive/MyDrive/Lumiere/Dataset/artemis_dataset_release_v0.csv\")\n",
    "artemis_data.head()\n"
   ]
  },
  {
   "cell_type": "code",
   "execution_count": null,
   "metadata": {
    "id": "PZSskVdcO-fU"
   },
   "outputs": [],
   "source": [
    "artemis_captions = artemis_data[\"utterance\"].values"
   ]
  },
  {
   "cell_type": "code",
   "execution_count": null,
   "metadata": {
    "id": "A6mHiS0kUfsG"
   },
   "outputs": [],
   "source": [
    "artemis_captions_spl = []\n",
    "for i in artemis_captions:\n",
    "    i = \" \".join([\"<sos>\", i, \"<eos>\"]) #adding <sos> and <eos>\n",
    "    artemis_captions_spl.append(i)"
   ]
  },
  {
   "cell_type": "code",
   "execution_count": null,
   "metadata": {
    "colab": {
     "base_uri": "https://localhost:8080/"
    },
    "id": "QwWq8d0cVh8T",
    "outputId": "a33c22d0-b4b3-4bd1-b22d-b119290dcb03"
   },
   "outputs": [
    {
     "data": {
      "text/plain": [
       "['<sos> She seems very happy in the picture, and you want to know what what is behind the smile. <eos>',\n",
       " '<sos> This woman has really knotty hands which makes her look like she has arthritis. <eos>',\n",
       " '<sos> When looking at this woman, I am filled with curiosity about what she is thinking about with her elbow on the table and a very emotionless face. <eos>',\n",
       " '<sos> A woman looking at ease, peaceful, and satisfied amongst her books makes me feel content. <eos>',\n",
       " '<sos> She looks like a lady from that past that might have been a teacher (books).  She looks tired and I wondered how hard it must have been for them back then. <eos>',\n",
       " '<sos> The bright colors make a very unique scene for the interesting shapes. <eos>',\n",
       " '<sos> The way the image is presented, with large chunks of paint used to depict each of the subjects, makes for a slight amount of confusion and an unsureness on the part of the viewer: what, exactly, was Kandinsky trying to depict during Autumn? <eos>',\n",
       " '<sos> the stroke of blue paint used to outline the houses in the painting <eos>',\n",
       " '<sos> Some of the wooden panels are falling from the buildings <eos>',\n",
       " '<sos> The golden gloves and white dress stand out and is a good contrast to the dark background! <eos>']"
      ]
     },
     "execution_count": 32,
     "metadata": {
      "tags": []
     },
     "output_type": "execute_result"
    }
   ],
   "source": [
    "artemis_captions_spl[:10] # checking a few values"
   ]
  },
  {
   "cell_type": "code",
   "execution_count": null,
   "metadata": {
    "id": "gE5cWK3aRK_z"
   },
   "outputs": [],
   "source": [
    "embeddings_dict = {}\n",
    "\n",
    "token_indexer: TokenIndexer = ELMoTokenCharactersIndexer()\n",
    "tokenizer: Tokenizer = WhitespaceTokenizer()\n",
    "vocab = Vocabulary()"
   ]
  },
  {
   "cell_type": "code",
   "execution_count": null,
   "metadata": {
    "id": "6zP-hS1Er8PW"
   },
   "outputs": [],
   "source": [
    "elmo_options_file = (\n",
    "    \"https://allennlp.s3.amazonaws.com/models/elmo/test_fixture/options.json\"\n",
    ")\n",
    "elmo_weight_file = (\n",
    "    \"https://allennlp.s3.amazonaws.com/models/elmo/test_fixture/lm_weights.hdf5\"\n",
    ") # from AllenNLP\n",
    "\n",
    "elmo_embedding = ElmoTokenEmbedder(\n",
    "    options_file=elmo_options_file, weight_file=elmo_weight_file, requires_grad=False\n",
    ")\n",
    "\n",
    "embedder = BasicTextFieldEmbedder(token_embedders={\"elmo_tokens\": elmo_embedding})"
   ]
  },
  {
   "cell_type": "code",
   "execution_count": null,
   "metadata": {
    "id": "7Bbb5NHRr8vL"
   },
   "outputs": [],
   "source": [
    "text = artemis_captions_spl[0] # picking an example"
   ]
  },
  {
   "cell_type": "code",
   "execution_count": null,
   "metadata": {
    "id": "seBJtM68sHhL"
   },
   "outputs": [],
   "source": [
    "tokens = tokenizer.tokenize(text)\n",
    "text_field = TextField(tokens, {\"elmo_tokens\": token_indexer})\n",
    "text_field.index(vocab)\n",
    "padding_lengths = text_field.get_padding_lengths()\n",
    "# print(type(padding_lengths), padding_lengths)\n",
    "tensor_dict = text_field.as_tensor(padding_lengths)\n",
    "# print(tensor_dict) "
   ]
  },
  {
   "cell_type": "code",
   "execution_count": null,
   "metadata": {
    "colab": {
     "base_uri": "https://localhost:8080/"
    },
    "id": "lQwLru7Vsc-N",
    "outputId": "53425722-7004-4af9-fe6b-e3f9c9fb6612"
   },
   "outputs": [
    {
     "data": {
      "text/plain": [
       "[<sos>,\n",
       " She,\n",
       " seems,\n",
       " very,\n",
       " happy,\n",
       " in,\n",
       " the,\n",
       " picture,,\n",
       " and,\n",
       " you,\n",
       " want,\n",
       " to,\n",
       " know,\n",
       " what,\n",
       " what,\n",
       " is,\n",
       " behind,\n",
       " the,\n",
       " smile.,\n",
       " <eos>]"
      ]
     },
     "execution_count": 37,
     "metadata": {
      "tags": []
     },
     "output_type": "execute_result"
    }
   ],
   "source": [
    "tokens # example of the tokenizer"
   ]
  },
  {
   "cell_type": "code",
   "execution_count": null,
   "metadata": {
    "id": "shkFvS-Rr6yB"
   },
   "outputs": [],
   "source": [
    "for i in range(len(artemis_captions)):\n",
    "    text = artemis_captions[i]\n",
    "    # print(text, type(text)) # for debugging\n",
    "    tokens = tokenizer.tokenize(text)\n",
    "    text_field = TextField(tokens, {\"elmo_tokens\": token_indexer})\n",
    "    text_field.index(vocab)\n",
    "    \n",
    "    padding_lengths = text_field.get_padding_lengths()\n",
    "    tensor_dict = text_field.as_tensor(padding_lengths)\n",
    "\n",
    "    token_tensor = text_field.as_tensor(text_field.get_padding_lengths())\n",
    "    embedder = BasicTextFieldEmbedder(token_embedders={\"elmo_tokens\": elmo_embedding})\n",
    "\n",
    "    tensor_dict = text_field.batch_tensors([token_tensor])\n",
    "    embedded_tokens = embedder(tensor_dict)\n",
    "\n",
    "    embeddings_dict.update({artemis_captions[i]: embedded_tokens.detach().cpu().numpy()}) # removing the gradient part"
   ]
  },
  {
   "cell_type": "code",
   "execution_count": null,
   "metadata": {
    "id": "8tc3fAmuD1Ye"
   },
   "outputs": [],
   "source": [
    "np.save('artemis_elmo_embeddings.npy', embeddings_dict)"
   ]
  },
  {
   "cell_type": "code",
   "execution_count": null,
   "metadata": {
    "colab": {
     "base_uri": "https://localhost:8080/"
    },
    "id": "p1m9dxjrD2iV",
    "outputId": "a08161e8-0138-46a2-c068-7e6fdd29e079"
   },
   "outputs": [
    {
     "name": "stdout",
     "output_type": "stream",
     "text": [
      "[[[ 0.          0.6844415  -0.6827564   0.37949494 -0.\n",
      "   -0.         -0.         -0.          0.         -0.51658684\n",
      "    0.          0.         -0.          0.45956087 -0.\n",
      "   -0.          0.          0.80556774 -0.73684406 -0.\n",
      "   -0.36114234 -1.536783   -0.          0.35063332 -0.99035996\n",
      "   -0.         -0.         -0.07399112 -1.1687298   0.\n",
      "   -0.          0.11975098]\n",
      "  [ 0.          1.2534962  -0.34084865 -0.         -0.\n",
      "   -0.24923238 -0.         -1.5924509  -0.         -0.\n",
      "   -0.          0.23717815 -0.645031    0.         -0.\n",
      "    0.         -0.          0.          0.         -0.43035048\n",
      "   -1.7940229  -0.6245768   0.          0.4018072  -0.\n",
      "   -0.09282405  0.         -0.         -1.624832    0.\n",
      "   -0.6257524  -1.366801  ]\n",
      "  [ 0.11926934  0.         -0.         -0.         -0.\n",
      "   -0.         -0.72425073 -0.         -0.         -0.4223647\n",
      "   -0.          0.         -0.62927216  0.8310913   0.\n",
      "    0.         -0.21252863  0.          0.21363086 -0.60022426\n",
      "   -0.         -0.13039184  0.          0.          0.07843815\n",
      "   -0.          0.         -0.16890964 -1.4032668   0.80384207\n",
      "   -0.         -0.        ]\n",
      "  [-0.          0.         -1.0677074  -0.63374615 -0.\n",
      "   -0.         -0.         -0.5993825  -0.         -0.\n",
      "   -0.10988209  0.68581665 -0.          0.          0.\n",
      "    0.77582645 -0.25330633  0.5843872  -0.4701074  -0.\n",
      "   -2.3634346  -0.33023015 -0.3849975   1.1653464   0.34729648\n",
      "   -0.04683555  0.          0.         -1.6004038   0.\n",
      "   -0.05386695 -1.037652  ]\n",
      "  [-0.86416626 -0.         -0.         -0.         -1.0030714\n",
      "    0.75530946 -0.          1.3221486  -0.         -0.\n",
      "    0.          0.97398436 -0.35842466  0.05753726  1.2792091\n",
      "    0.          1.7464937   0.         -0.         -0.\n",
      "   -0.7156041   1.9486266  -0.          0.6517422   0.1620114\n",
      "   -1.3797733   0.          1.8030413  -0.39831787  0.48237658\n",
      "   -1.3439701   0.        ]\n",
      "  [ 2.6361787   0.          0.         -0.         -0.\n",
      "    1.2505531  -0.         -0.6142914   2.0665853  -0.\n",
      "    0.46539772  1.255064   -2.3206496   1.667623   -2.116053\n",
      "   -0.          0.          0.7124998   0.         -0.\n",
      "   -0.         -0.          0.94484067  0.7092873  -0.\n",
      "    0.19981062 -0.06171629 -0.         -0.         -0.\n",
      "   -2.5691886  -0.85237247]\n",
      "  [ 0.38360772  2.0621402  -0.62768745 -0.         -0.16924807\n",
      "    0.28472188 -0.25337982 -1.9911262  -0.         -0.\n",
      "   -0.          0.         -0.          1.3997531  -0.\n",
      "    1.2092012  -0.          1.264924    0.         -0.\n",
      "   -2.3298073   0.          0.92099595  0.         -0.17893356\n",
      "    0.16146208  1.5222013   0.         -1.6649059   1.7698743\n",
      "    0.         -0.        ]\n",
      "  [ 0.43153486  0.41302913 -0.         -0.89082134 -0.\n",
      "    0.5432058  -0.         -0.          0.41999906 -0.\n",
      "    0.20919672  0.         -0.3522069   0.          0.\n",
      "    0.47284576  1.5077999   0.         -0.9556134  -0.\n",
      "   -0.          0.         -0.3692227   0.         -0.\n",
      "   -0.89082766  0.          0.70263207 -0.          0.47859558\n",
      "   -1.3885384   0.        ]\n",
      "  [ 0.92397153  0.         -0.         -1.4109716  -0.82093525\n",
      "    0.12283736 -0.44826266 -1.5571856   0.         -0.6167715\n",
      "    0.03281441  0.         -0.          0.         -0.\n",
      "    0.          0.          0.44338226  0.55949295 -0.73261094\n",
      "   -1.607695   -0.348078    0.          0.44497657 -0.\n",
      "   -0.08546428  0.99001867 -0.6377143  -0.          0.\n",
      "   -0.60834646 -0.9378099 ]\n",
      "  [-0.3330945   1.3027817  -1.2857575  -1.1690722  -0.31806135\n",
      "   -0.         -1.1527865  -0.         -0.92553926 -0.64433265\n",
      "   -0.          0.590366   -0.620378    1.0571282   0.\n",
      "    1.6211712  -0.          1.0668203   0.02496669 -0.\n",
      "   -0.          0.          0.          0.          0.45828968\n",
      "   -0.          1.3576736   0.         -0.          1.6209756\n",
      "    0.         -1.2578168 ]\n",
      "  [ 0.          0.         -1.2370589  -1.0076382  -0.\n",
      "    0.         -0.         -0.          0.2556867  -0.\n",
      "    0.          0.         -0.6729841   0.6764995   0.34547263\n",
      "    0.487236    0.          0.         -0.         -1.0357599\n",
      "   -1.1571293   0.779196   -0.41112977  0.          0.\n",
      "   -0.          0.7507409   0.6695321  -1.1990912   0.7598935\n",
      "   -0.         -0.        ]\n",
      "  [ 0.          0.         -0.         -0.         -0.\n",
      "    0.         -0.8056547  -0.          1.1200045  -0.\n",
      "   -0.05232701  0.68654776 -1.2846184   0.         -0.828478\n",
      "   -0.          0.          0.65237105 -0.09419359 -0.67092794\n",
      "   -0.9377886  -0.9560016  -0.          0.          0.11410149\n",
      "   -0.39077777 -0.         -0.5866355  -0.          0.3391063\n",
      "   -1.1112144  -0.17482167]\n",
      "  [-0.12038483  0.         -1.8482625  -0.         -0.36742774\n",
      "   -0.21965705 -1.3797836  -0.         -0.         -0.\n",
      "   -0.11000653  0.         -0.          0.91312015  0.\n",
      "    0.         -0.          0.         -0.6556725  -0.\n",
      "   -0.          0.01781998 -0.          0.          0.\n",
      "   -0.50320977  0.55979043  0.18019477 -1.2006223   1.550873\n",
      "    0.         -0.        ]\n",
      "  [-0.7437411   0.         -1.9432858  -0.4806443  -0.61915535\n",
      "   -0.25283045 -1.4051223  -0.7341596  -0.         -0.\n",
      "   -0.09742463  0.814564   -0.52867377  0.          0.\n",
      "    0.         -0.7534133   0.         -0.800994   -0.\n",
      "   -0.          0.         -0.9054947   0.          0.\n",
      "   -0.          0.6110717   0.25832933 -1.512791    1.4478736\n",
      "    0.20320837 -1.3376603 ]\n",
      "  [ 1.1146225   0.5733461  -0.73481816 -1.6152143  -0.\n",
      "    0.         -0.18527628  0.18080606  0.         -0.40949515\n",
      "    0.          0.         -0.          0.6359192  -0.\n",
      "   -0.5233911   0.9779043   0.         -1.0142862  -0.\n",
      "   -0.6275356  -0.         -0.         -0.          1.4541603\n",
      "   -0.59841704 -0.18134943 -0.         -0.         -0.1431948\n",
      "   -1.0099357   0.3949124 ]\n",
      "  [-0.          1.9547272  -0.         -1.5075524  -0.71400464\n",
      "   -0.         -1.3720706  -0.         -1.1386876  -0.\n",
      "   -0.          1.1806825  -0.          0.         -0.\n",
      "    1.1444457  -0.          0.         -0.         -0.\n",
      "   -0.         -0.         -1.6238122  -0.50588644  0.\n",
      "   -0.17030016  0.          0.         -1.627198    0.\n",
      "    0.         -0.        ]\n",
      "  [ 1.9812658   0.         -0.21977907 -0.         -0.\n",
      "    0.         -0.38497472 -1.3593473   0.         -0.\n",
      "   -0.          0.         -1.6990265   1.2828507  -0.\n",
      "   -1.200979    0.20509833  0.         -2.0771904   0.63700855\n",
      "   -0.         -2.7260704  -2.6212335  -0.08243246  1.9059503\n",
      "   -0.         -0.          0.         -2.0274954  -0.\n",
      "    0.          0.483321  ]\n",
      "  [-0.         -0.         -0.          1.9640009  -0.\n",
      "    0.         -0.          0.         -3.484863   -0.\n",
      "    0.          1.7549381   1.5640957  -0.43308714  2.5279908\n",
      "    0.         -0.13865584  2.7981033  -3.271024   -0.\n",
      "   -0.          1.2191155  -0.          2.447589    0.\n",
      "   -0.         -1.3339053   0.          0.8551301   0.\n",
      "   -0.         -0.8692111 ]]]\n"
     ]
    }
   ],
   "source": [
    "# Load\n",
    "data_dict = np.load('artemis_elmo_embeddings.npy',allow_pickle='TRUE').item()\n",
    "print(data_dict[artemis_captions[0]])"
   ]
  },
  {
   "cell_type": "code",
   "execution_count": null,
   "metadata": {
    "id": "KWMuWFlIw1CN"
   },
   "outputs": [],
   "source": [
    "import os\n",
    "os.chdir(\"/content/drive/MyDrive/Lumiere/Dataset/\")\n",
    "np.save('artemis_elmo_embeddings.npy', embeddings_dict)"
   ]
  },
  {
   "cell_type": "code",
   "execution_count": null,
   "metadata": {
    "id": "aUC1RootU1RF"
   },
   "outputs": [],
   "source": []
  }
 ],
 "metadata": {
  "colab": {
   "collapsed_sections": [],
   "name": "More_Artemis.ipynb",
   "provenance": []
  },
  "kernelspec": {
   "display_name": "Python 3",
   "language": "python",
   "name": "python3"
  },
  "language_info": {
   "codemirror_mode": {
    "name": "ipython",
    "version": 3
   },
   "file_extension": ".py",
   "mimetype": "text/x-python",
   "name": "python",
   "nbconvert_exporter": "python",
   "pygments_lexer": "ipython3",
   "version": "3.8.5"
  }
 },
 "nbformat": 4,
 "nbformat_minor": 1
}
